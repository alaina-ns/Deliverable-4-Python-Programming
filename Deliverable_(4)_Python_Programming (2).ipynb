{
  "nbformat": 4,
  "nbformat_minor": 0,
  "metadata": {
    "colab": {
      "provenance": []
    },
    "kernelspec": {
      "name": "python3",
      "display_name": "Python 3"
    },
    "language_info": {
      "name": "python"
    }
  },
  "cells": [
    {
      "cell_type": "code",
      "execution_count": 1,
      "metadata": {
        "id": "zIRf4zc-3U_a"
      },
      "outputs": [],
      "source": [
        "import random\n",
        "\n",
        "def random_array(array_len):\n",
        "    return [random.randint(10, 50) for _ in range(array_len)]\n",
        "\n",
        "def sum_array(array):\n",
        "    return sum(array)\n",
        "\n",
        "def get_user_input():\n",
        "    while True:\n",
        "        try:\n",
        "            user_input = int(input(\"Enter an integer number between 5 and 15: \"))\n",
        "            if 5 <= user_input <= 15:\n",
        "                return user_input\n",
        "            else:\n",
        "                print(\"Invalid input. Please enter a number between 5 and 15.\")\n",
        "        except ValueError:\n",
        "            print(\"Invalid input. Please enter a valid integer.\")\n"
      ]
    },
    {
      "cell_type": "code",
      "source": [
        "def main():\n",
        "    while True:\n",
        "        validInput = False\n",
        "        input_num = 0\n",
        "\n",
        "        while not validInput:\n",
        "            input_num = get_user_input()\n",
        "\n",
        "            if 5 <= input_num <= 15:\n",
        "                validInput = True\n",
        "\n",
        "        MyArray = random_array(input_num)\n",
        "\n",
        "        print(\"The elements in the random array are:\", end=\" \")\n",
        "        for i in MyArray:\n",
        "            print(i, end=\" \")\n",
        "        print()\n",
        "        print(\"The sum is:\", sum_array(MyArray))\n",
        "\n",
        "        repeat = input(\"Do you want to try again? (yes/no): \").lower()\n",
        "        if repeat != 'yes':\n",
        "            break\n",
        "\n",
        "if __name__ == \"__main__\":\n",
        "    main()"
      ],
      "metadata": {
        "id": "UQPLknoX37R6",
        "colab": {
          "base_uri": "https://localhost:8080/"
        },
        "outputId": "39e59b66-18d3-4d9a-acfc-088a35081b31"
      },
      "execution_count": null,
      "outputs": [
        {
          "output_type": "stream",
          "name": "stdout",
          "text": [
            "Enter an integer number between 5 and 15: 6\n",
            "The elements in the random array are: 34 38 13 43 32 41 \n",
            "The sum is: 201\n"
          ]
        }
      ]
    }
  ]
}